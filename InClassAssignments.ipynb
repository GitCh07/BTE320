{
  "nbformat": 4,
  "nbformat_minor": 0,
  "metadata": {
    "colab": {
      "provenance": [],
      "authorship_tag": "ABX9TyNzblFwHiEHIyOU6Ld8Fel4",
      "include_colab_link": true
    },
    "kernelspec": {
      "name": "python3",
      "display_name": "Python 3"
    },
    "language_info": {
      "name": "python"
    }
  },
  "cells": [
    {
      "cell_type": "markdown",
      "metadata": {
        "id": "view-in-github",
        "colab_type": "text"
      },
      "source": [
        "<a href=\"https://colab.research.google.com/github/GitCh07/BTE320/blob/main/InClassAssignments.ipynb\" target=\"_parent\"><img src=\"https://colab.research.google.com/assets/colab-badge.svg\" alt=\"Open In Colab\"/></a>"
      ]
    },
    {
      "cell_type": "code",
      "execution_count": null,
      "metadata": {
        "colab": {
          "base_uri": "https://localhost:8080/"
        },
        "id": "uJ8fqIYOUD_n",
        "outputId": "4a99d498-5198-43bc-b54e-f285e83cc426"
      },
      "outputs": [
        {
          "output_type": "stream",
          "name": "stdout",
          "text": [
            "Calculate the surface area of a cylinder\n",
            "Enter radius: 3\n",
            "Enter height: 10\n",
            "The area is:\n",
            "226.08 sq. ft"
          ]
        }
      ],
      "source": [
        "print(\"Calculate the surface area of a cylinder\")\n",
        "pi = 3.14\n",
        "radius = float(input(\"Enter radius: \"))\n",
        "height = float(input(\"Enter height: \"))\n",
        "print(\"The area is:\")\n",
        "print((2*pi*radius*2) + (2*pi*radius*height), end = \" sq. ft\")"
      ]
    },
    {
      "cell_type": "code",
      "source": [
        "n1 = float(input('Please provide the first number: '))\n",
        "n2 = float(input('Please provide the second number: '))\n",
        "s  = input('Please provide the operator: ')\n",
        "\n",
        "if s == '+':\n",
        "    print(f'{n1} + {n2} = {n1 + n2}')\n",
        "elif s == '-':\n",
        "    print(f'{n1} - {n2} = {n1 - n2}')\n",
        "elif s == '*':\n",
        "    print(f'{n1} * {n2} = {n1 * n2}')\n",
        "elif s == '/':\n",
        "    print(f'{n1} / {n2} = {n1 / n2}')\n",
        "elif s == '%':\n",
        "    print(f'{n1} % {n2} = {n1 % n2}')\n",
        "elif s == '**':\n",
        "    print(f'{n1} ** {n2} = {n1 ** n2}')\n",
        "elif s == '//':\n",
        "    print(f'{n1} // {n2} = {n1 // n2}')\n",
        "else:\n",
        "    print('Invalid operator')"
      ],
      "metadata": {
        "colab": {
          "base_uri": "https://localhost:8080/"
        },
        "id": "zoYZGXHrc5lC",
        "outputId": "2cd7a7be-57bc-47ff-8fdd-7514d49e1e18"
      },
      "execution_count": null,
      "outputs": [
        {
          "output_type": "stream",
          "name": "stdout",
          "text": [
            "Please provide the first number: 2\n",
            "Please provide the second number: 3\n",
            "Please provide the operator: %\n",
            "2.0 % 3.0 = 2.0\n"
          ]
        }
      ]
    },
    {
      "cell_type": "code",
      "source": [
        "for hours in range(1, 9):\n",
        "    fee = 5 + (2.50 * hours)\n",
        "    if fee < 10:\n",
        "        fee = 10\n",
        "    elif fee > 20:\n",
        "        fee = 20\n",
        "    print(hours, fee)"
      ],
      "metadata": {
        "id": "RlTdrr_fVHDB",
        "colab": {
          "base_uri": "https://localhost:8080/"
        },
        "outputId": "45422361-c743-48e4-af63-8bd1d680e2be"
      },
      "execution_count": null,
      "outputs": [
        {
          "output_type": "stream",
          "name": "stdout",
          "text": [
            "1 10\n",
            "2 10.0\n",
            "3 12.5\n",
            "4 15.0\n",
            "5 17.5\n",
            "6 20.0\n",
            "7 20\n",
            "8 20\n"
          ]
        }
      ]
    },
    {
      "cell_type": "code",
      "source": [
        "for admoney in range(0, 201, 25):\n",
        "  revenue =(20 + 2 *round(admoney ** .5)) * 10\n",
        "  costs = 200 + admoney\n",
        "  profit = revenue - costs\n",
        "  print (admoney, profit)"
      ],
      "metadata": {
        "colab": {
          "base_uri": "https://localhost:8080/"
        },
        "id": "N9vtpiZniSQ9",
        "outputId": "0cf6c76d-4eeb-479c-ce1b-99e19d5fe406"
      },
      "execution_count": null,
      "outputs": [
        {
          "output_type": "stream",
          "name": "stdout",
          "text": [
            "0 0\n",
            "25 75\n",
            "50 90\n",
            "75 105\n",
            "100 100\n",
            "125 95\n",
            "150 90\n",
            "175 85\n",
            "200 80\n"
          ]
        }
      ]
    },
    {
      "cell_type": "code",
      "source": [
        "# Rock Paper Scissors Game\n",
        "import random\n",
        "\n",
        "play = input('Would you like to play a game (Yes/No)? ').capitalize()\n",
        "\n",
        "while play == 'Yes':\n",
        "\n",
        " if p1 in ['Rock', 'Paper', 'Scissors']:\n",
        "   p2 = random.choice(['Rock', 'Paper', 'Scissors']).capitalize()\n",
        "   print(f'Player chose: {p1}; Computer chose: {p2} ')\n",
        "   if p1 == p2:\n",
        "     print(\"It's a tie!\")\n",
        "   elif ((p1 == 'Rock' and p2 == 'Scissors') or\n",
        "       (p1 == 'Scissors' and p2 == 'Paper') or\n",
        "       (p1 == 'Paper' and p2 == 'Rock')\n",
        "       ):\n",
        "     print('Player wins!')\n",
        "   else:\n",
        "     print('Computer wins!')\n",
        " else:\n",
        "   print('Invalid Input')\n",
        " play = input('Would you like to play another game (Yes/No)? ').capitalize()\n",
        "print('Have a good day!')"
      ],
      "metadata": {
        "colab": {
          "base_uri": "https://localhost:8080/"
        },
        "id": "mEpMDy7UTFrP",
        "outputId": "63710267-060c-4084-e694-7850adc6cbac"
      },
      "execution_count": null,
      "outputs": [
        {
          "output_type": "stream",
          "name": "stdout",
          "text": [
            "Would you like to play a game (Yes/No)? No\n",
            "Have a good day!\n"
          ]
        }
      ]
    },
    {
      "cell_type": "code",
      "source": [
        "numbers = []\n",
        "\n",
        "while True:\n",
        "    num = int(input(\"Enter a number (0 to stop): \"))\n",
        "    if num == 0:\n",
        "        break\n",
        "    numbers.append(num)\n",
        "\n",
        "numbers.sort(reverse=True)\n",
        "print(\"List in descending order:\", numbers)"
      ],
      "metadata": {
        "colab": {
          "base_uri": "https://localhost:8080/"
        },
        "id": "ykjHPJ52PMM2",
        "outputId": "f5377b83-025a-41ec-9dc5-1283e42a0db8"
      },
      "execution_count": null,
      "outputs": [
        {
          "output_type": "stream",
          "name": "stdout",
          "text": [
            "Enter a number (0 to stop): 530\n",
            "Enter a number (0 to stop): 900\n",
            "Enter a number (0 to stop): 328\n",
            "Enter a number (0 to stop): 4221\n",
            "Enter a number (0 to stop): 4141\n",
            "Enter a number (0 to stop): 0\n",
            "List in descending order: [4221, 4141, 900, 530, 328]\n"
          ]
        }
      ]
    },
    {
      "cell_type": "code",
      "source": [
        "def calcFee(hours):\n",
        "    base_fee = 5\n",
        "    hourly_rate = 2.5\n",
        "    total_fee = base_fee + (hours * hourly_rate)\n",
        "    return total_fee\n",
        "\n",
        "hours_parked = int(input(\"Enter hours parked: \"))\n",
        "fee = calcFee(hours_parked)\n",
        "print(f\"Parking fee: $ {fee:.2f}\")"
      ],
      "metadata": {
        "colab": {
          "base_uri": "https://localhost:8080/"
        },
        "id": "9CqgI_q2nHHN",
        "outputId": "6610228e-3b8c-411e-9cef-676531c17e7e"
      },
      "execution_count": null,
      "outputs": [
        {
          "output_type": "stream",
          "name": "stdout",
          "text": [
            "Enter hours parked: 8\n",
            "Parking fee: $ 25.00\n"
          ]
        }
      ]
    },
    {
      "cell_type": "code",
      "source": [
        "months={}\n",
        "\n",
        "names=['jan','feb','mar','apr','may','jun','jul','aug','sep','oct','nov','dec']\n",
        "numbers=[1,2,3,4,5,6,7,8,9,10,11,12]\n",
        "\n",
        "for idx in range(len(numbers)):\n",
        "  months[numbers[idx]]=names[idx]\n",
        "print(months)\n",
        "\n",
        "\n",
        "\n",
        "\n",
        "months={}\n",
        "\n",
        "names=['jan','feb','mar','apr','may','jun','jul','aug','sep','oct','nov','dec']\n",
        "numbers=[1,2,3,4,5,6,7,8,9,10,11,12]"
      ],
      "metadata": {
        "colab": {
          "base_uri": "https://localhost:8080/"
        },
        "id": "SoA5rV0uKt5g",
        "outputId": "754615ac-16cb-42eb-e481-7e966494d4b2"
      },
      "execution_count": null,
      "outputs": [
        {
          "output_type": "stream",
          "name": "stdout",
          "text": [
            "{1: 'jan', 2: 'feb', 3: 'mar', 4: 'apr', 5: 'may', 6: 'jun', 7: 'jul', 8: 'aug', 9: 'sep', 10: 'oct', 11: 'nov', 12: 'dec'}\n"
          ]
        }
      ]
    },
    {
      "cell_type": "code",
      "source": [
        "cntr=0\n",
        "for num in numbers:\n",
        "  months[num]=names[cntr]\n",
        "  cntr +=1\n",
        "months\n",
        "\n",
        "\n",
        "\n",
        "\n",
        "counts={}\n",
        "\n",
        "while len(counts)<5:\n",
        "  key=input('given a string:')\n",
        "\n",
        "  if key not in counts:\n",
        "    counts[key]=1\n",
        "  else:\n",
        "    counts[key]+=1\n",
        "print(counts)"
      ],
      "metadata": {
        "colab": {
          "base_uri": "https://localhost:8080/"
        },
        "id": "lJWiXQtAKzsC",
        "outputId": "6851a825-f10c-42de-ec2d-bdf10bf6a494"
      },
      "execution_count": null,
      "outputs": [
        {
          "output_type": "stream",
          "name": "stdout",
          "text": [
            "given a string:2\n",
            "given a string:2\n",
            "given a string:1\n",
            "given a string:1\n",
            "given a string:5\n",
            "given a string:0\n",
            "given a string:3\n",
            "{'2': 2, '1': 2, '5': 1, '0': 1, '3': 1}\n"
          ]
        }
      ]
    },
    {
      "cell_type": "code",
      "source": [
        "def calcfee(hours):\n",
        "    fee = 5 + 2.5 * hours\n",
        "    if fee < 10:\n",
        "        fee = 10\n",
        "    elif fee > 20:\n",
        "        fee = 20\n",
        "    print(f'Fee: ${fee:.2f}')\n",
        "\n",
        "def main():\n",
        "    try:\n",
        "        numHours = int(input('Enter hours parked: '))\n",
        "        if numHours < 0:\n",
        "            print(\"Hours cannot be negative.\")\n",
        "        else:\n",
        "            calcfee(numHours)\n",
        "    except ValueError:\n",
        "        print(\"Invalid input. Please enter a whole number.\")\n",
        "\n",
        "if __name__ == \"__main__\":\n",
        "    main()\n"
      ],
      "metadata": {
        "colab": {
          "base_uri": "https://localhost:8080/"
        },
        "id": "pse_TGRpS9gR",
        "outputId": "9bf00d5d-4e2f-4386-9f9e-812897453342"
      },
      "execution_count": null,
      "outputs": [
        {
          "output_type": "stream",
          "name": "stdout",
          "text": [
            "Enter hours parked: 10,293,230\n",
            "Invalid input. Please enter a whole number.\n"
          ]
        }
      ]
    },
    {
      "cell_type": "code",
      "source": [
        "def calcFee(hours):\n",
        "    base_fee = 5\n",
        "    hourly_rate = 2.5\n",
        "    total_fee = base_fee + (hours * hourly_rate)\n",
        "    return total_fee\n",
        "\n",
        "try:\n",
        "    hours_parked = int(input(\"Enter hours parked: \"))\n",
        "    if hours_parked < 0:\n",
        "        print(\"Hours cannot be negative.\")\n",
        "    else:\n",
        "        fee = calcFee(hours_parked)\n",
        "        print(f\"Parking fee: $ {fee:.2f}\")\n",
        "except ValueError:\n",
        "    print(\"Invalid input. Please enter a whole number.\")\n"
      ],
      "metadata": {
        "colab": {
          "base_uri": "https://localhost:8080/"
        },
        "id": "GzEGaTfmTcK3",
        "outputId": "bb47acaf-59c5-4afb-e9ce-03e479fdbb3b"
      },
      "execution_count": null,
      "outputs": [
        {
          "output_type": "stream",
          "name": "stdout",
          "text": [
            "Enter hours parked: -10\n",
            "Hours cannot be negative.\n"
          ]
        }
      ]
    },
    {
      "cell_type": "code",
      "source": [
        "def getValues(n):\n",
        "    L = []\n",
        "    for i in range(n):\n",
        "        try:\n",
        "            x = float(input(\"Enter a value: \"))\n",
        "            L.append(x)\n",
        "        except ValueError:\n",
        "            print(\"Invalid input. Please enter a number.\")\n",
        "            return []\n",
        "    return L\n",
        "\n",
        "def calcAverage(alist):\n",
        "    if len(alist) == 0:\n",
        "        print(\"No values were entered. Cannot calculate average.\")\n",
        "        return None\n",
        "    sum = 0\n",
        "    for x in alist:\n",
        "        sum += x\n",
        "    return sum / len(alist)\n",
        "\n",
        "if __name__ == \"__main__\":\n",
        "    try:\n",
        "        n = int(input(\"Enter the number of values: \"))\n",
        "        L = getValues(n)\n",
        "        avg = calcAverage(L)\n",
        "        if avg is not None:\n",
        "            print(f\"The average is: {avg:.2f}\")\n",
        "    except ValueError:\n",
        "        print(\"Invalid input. Please enter a whole number.\")\n"
      ],
      "metadata": {
        "colab": {
          "base_uri": "https://localhost:8080/"
        },
        "id": "YIvLV1qXZSP5",
        "outputId": "a70317f5-fca6-4a92-a5f0-ccec6887aa1d"
      },
      "execution_count": null,
      "outputs": [
        {
          "output_type": "stream",
          "name": "stdout",
          "text": [
            "Enter the number of values: -900\n",
            "No values were entered. Cannot calculate average.\n"
          ]
        }
      ]
    },
    {
      "cell_type": "code",
      "source": [
        "class Greeting:\n",
        "    def __init__(self, first, last):\n",
        "        self.first = first\n",
        "        self.last = last\n",
        "\n",
        "    def display(self):\n",
        "        return f\"{self.first} {self.last}.\"\n",
        "\n",
        "c = Greeting(\"Hi\", \"Donald\")\n",
        "print(c.display())"
      ],
      "metadata": {
        "colab": {
          "base_uri": "https://localhost:8080/"
        },
        "id": "qPfMCXjUYHJK",
        "outputId": "b6ec9f99-e930-427d-e183-e1517f2b1bea"
      },
      "execution_count": null,
      "outputs": [
        {
          "output_type": "stream",
          "name": "stdout",
          "text": [
            "Hi Donald.\n"
          ]
        }
      ]
    },
    {
      "cell_type": "code",
      "source": [
        "greeting = Greeting('Donald','Becker')\n",
        "greeting.display()"
      ],
      "metadata": {
        "colab": {
          "base_uri": "https://localhost:8080/",
          "height": 35
        },
        "id": "ZasQ6TzWZf8O",
        "outputId": "5f2845ed-9148-4102-ccff-c75f8f9f5a11"
      },
      "execution_count": null,
      "outputs": [
        {
          "output_type": "execute_result",
          "data": {
            "text/plain": [
              "'Donald Becker.'"
            ],
            "application/vnd.google.colaboratory.intrinsic+json": {
              "type": "string"
            }
          },
          "metadata": {},
          "execution_count": 3
        }
      ]
    },
    {
      "cell_type": "code",
      "source": [
        "class Greeting:\n",
        "    def __init__(self, first, last):\n",
        "        self.first = first\n",
        "        self.last = last\n",
        "\n",
        "    def display(self, formal=False):\n",
        "        if formal:\n",
        "            print(f'Hello, {self.first} {self.last}')\n",
        "        else:\n",
        "            print(f'Hi {self.first}')\n",
        "\n",
        "    def __str__(self):\n",
        "        return f'{self.first}, {self.last}'\n",
        "greeting = Greeting('Donald', 'Becker')\n",
        "greeting.display()\n",
        "print(greeting)"
      ],
      "metadata": {
        "colab": {
          "base_uri": "https://localhost:8080/"
        },
        "id": "a99GjbuPx-VA",
        "outputId": "c2ca340a-bbe1-490c-ab38-9f94ca8edaee"
      },
      "execution_count": 1,
      "outputs": [
        {
          "output_type": "stream",
          "name": "stdout",
          "text": [
            "Hi Donald\n",
            "Donald, Becker\n"
          ]
        }
      ]
    },
    {
      "cell_type": "code",
      "source": [
        "class Coordinate:\n",
        "    def __init__(self, x, y):\n",
        "        self.x = x\n",
        "        self.y = y\n",
        "    def distance(self, other):\n",
        "        dx = (self.x - other.x) ** 2\n",
        "        dy = (self.y - other.y) ** 2\n",
        "        dist = (dx + dy) ** 0.5\n",
        "        print(dist)\n",
        "\n",
        "a = Coordinate(0, 0)\n",
        "b = Coordinate(3, 4)\n",
        "a.distance(b)"
      ],
      "metadata": {
        "colab": {
          "base_uri": "https://localhost:8080/"
        },
        "id": "HClgb7JXyJR7",
        "outputId": "7ea184b1-b8f0-4d42-a50c-d980ffc083f3"
      },
      "execution_count": 2,
      "outputs": [
        {
          "output_type": "stream",
          "name": "stdout",
          "text": [
            "5.0\n"
          ]
        }
      ]
    }
  ]
}
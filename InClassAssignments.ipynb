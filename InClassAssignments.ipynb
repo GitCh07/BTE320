{
  "nbformat": 4,
  "nbformat_minor": 0,
  "metadata": {
    "colab": {
      "provenance": [],
      "authorship_tag": "ABX9TyPpBb4ok5GpMba6uxuDSlZd",
      "include_colab_link": true
    },
    "kernelspec": {
      "name": "python3",
      "display_name": "Python 3"
    },
    "language_info": {
      "name": "python"
    }
  },
  "cells": [
    {
      "cell_type": "markdown",
      "metadata": {
        "id": "view-in-github",
        "colab_type": "text"
      },
      "source": [
        "<a href=\"https://colab.research.google.com/github/GitCh07/BTE320/blob/main/InClassAssignments.ipynb\" target=\"_parent\"><img src=\"https://colab.research.google.com/assets/colab-badge.svg\" alt=\"Open In Colab\"/></a>"
      ]
    },
    {
      "cell_type": "code",
      "execution_count": null,
      "metadata": {
        "colab": {
          "base_uri": "https://localhost:8080/"
        },
        "id": "uJ8fqIYOUD_n",
        "outputId": "4a99d498-5198-43bc-b54e-f285e83cc426"
      },
      "outputs": [
        {
          "output_type": "stream",
          "name": "stdout",
          "text": [
            "Calculate the surface area of a cylinder\n",
            "Enter radius: 3\n",
            "Enter height: 10\n",
            "The area is:\n",
            "226.08 sq. ft"
          ]
        }
      ],
      "source": [
        "print(\"Calculate the surface area of a cylinder\")\n",
        "pi = 3.14\n",
        "radius = float(input(\"Enter radius: \"))\n",
        "height = float(input(\"Enter height: \"))\n",
        "print(\"The area is:\")\n",
        "print((2*pi*radius*2) + (2*pi*radius*height), end = \" sq. ft\")"
      ]
    },
    {
      "cell_type": "code",
      "source": [
        "n1 = float(input('Please provide the first number: '))\n",
        "n2 = float(input('Please provide the second number: '))\n",
        "s  = input('Please provide the operator: ')\n",
        "\n",
        "if s == '+':\n",
        "    print(f'{n1} + {n2} = {n1 + n2}')\n",
        "elif s == '-':\n",
        "    print(f'{n1} - {n2} = {n1 - n2}')\n",
        "elif s == '*':\n",
        "    print(f'{n1} * {n2} = {n1 * n2}')\n",
        "elif s == '/':\n",
        "    print(f'{n1} / {n2} = {n1 / n2}')\n",
        "elif s == '%':\n",
        "    print(f'{n1} % {n2} = {n1 % n2}')\n",
        "elif s == '**':\n",
        "    print(f'{n1} ** {n2} = {n1 ** n2}')\n",
        "elif s == '//':\n",
        "    print(f'{n1} // {n2} = {n1 // n2}')\n",
        "else:\n",
        "    print('Invalid operator')"
      ],
      "metadata": {
        "colab": {
          "base_uri": "https://localhost:8080/"
        },
        "id": "zoYZGXHrc5lC",
        "outputId": "2cd7a7be-57bc-47ff-8fdd-7514d49e1e18"
      },
      "execution_count": null,
      "outputs": [
        {
          "output_type": "stream",
          "name": "stdout",
          "text": [
            "Please provide the first number: 2\n",
            "Please provide the second number: 3\n",
            "Please provide the operator: %\n",
            "2.0 % 3.0 = 2.0\n"
          ]
        }
      ]
    },
    {
      "cell_type": "code",
      "source": [
        "for hours in range(1, 9):\n",
        "    fee = 5 + (2.50 * hours)\n",
        "    if fee < 10:\n",
        "        fee = 10\n",
        "    elif fee > 20:\n",
        "        fee = 20\n",
        "    print(hours, fee)"
      ],
      "metadata": {
        "id": "RlTdrr_fVHDB",
        "colab": {
          "base_uri": "https://localhost:8080/"
        },
        "outputId": "45422361-c743-48e4-af63-8bd1d680e2be"
      },
      "execution_count": null,
      "outputs": [
        {
          "output_type": "stream",
          "name": "stdout",
          "text": [
            "1 10\n",
            "2 10.0\n",
            "3 12.5\n",
            "4 15.0\n",
            "5 17.5\n",
            "6 20.0\n",
            "7 20\n",
            "8 20\n"
          ]
        }
      ]
    },
    {
      "cell_type": "code",
      "source": [
        "for admoney in range(0, 201, 25):\n",
        "  revenue =(20 + 2 *round(admoney ** .5)) * 10\n",
        "  costs = 200 + admoney\n",
        "  profit = revenue - costs\n",
        "  print (admoney, profit)"
      ],
      "metadata": {
        "colab": {
          "base_uri": "https://localhost:8080/"
        },
        "id": "N9vtpiZniSQ9",
        "outputId": "0cf6c76d-4eeb-479c-ce1b-99e19d5fe406"
      },
      "execution_count": null,
      "outputs": [
        {
          "output_type": "stream",
          "name": "stdout",
          "text": [
            "0 0\n",
            "25 75\n",
            "50 90\n",
            "75 105\n",
            "100 100\n",
            "125 95\n",
            "150 90\n",
            "175 85\n",
            "200 80\n"
          ]
        }
      ]
    },
    {
      "cell_type": "code",
      "source": [
        "# Rock Paper Scissors Game\n",
        "import random\n",
        "\n",
        "play = input('Would you like to play a game (Yes/No)? ').capitalize()\n",
        "\n",
        "while play == 'Yes':\n",
        "\n",
        " if p1 in ['Rock', 'Paper', 'Scissors']:\n",
        "   p2 = random.choice(['Rock', 'Paper', 'Scissors']).capitalize()\n",
        "   print(f'Player chose: {p1}; Computer chose: {p2} ')\n",
        "   if p1 == p2:\n",
        "     print(\"It's a tie!\")\n",
        "   elif ((p1 == 'Rock' and p2 == 'Scissors') or\n",
        "       (p1 == 'Scissors' and p2 == 'Paper') or\n",
        "       (p1 == 'Paper' and p2 == 'Rock')\n",
        "       ):\n",
        "     print('Player wins!')\n",
        "   else:\n",
        "     print('Computer wins!')\n",
        " else:\n",
        "   print('Invalid Input')\n",
        " play = input('Would you like to play another game (Yes/No)? ').capitalize()\n",
        "print('Have a good day!')"
      ],
      "metadata": {
        "colab": {
          "base_uri": "https://localhost:8080/"
        },
        "id": "mEpMDy7UTFrP",
        "outputId": "63710267-060c-4084-e694-7850adc6cbac"
      },
      "execution_count": 2,
      "outputs": [
        {
          "output_type": "stream",
          "name": "stdout",
          "text": [
            "Would you like to play a game (Yes/No)? No\n",
            "Have a good day!\n"
          ]
        }
      ]
    }
  ]
}